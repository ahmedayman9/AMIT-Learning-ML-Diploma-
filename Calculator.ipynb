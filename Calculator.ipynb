{
 "cells": [
  {
   "cell_type": "code",
   "execution_count": 11,
   "id": "190df1c2",
   "metadata": {},
   "outputs": [
    {
     "name": "stdout",
     "output_type": "stream",
     "text": [
      "if you want to continue Enter yes & if you want to stop enter stopyes\n",
      "Please Enter Your Biggest Number : \n",
      "25\n",
      "Please Enter Your Smallest Number : \n",
      "10\n",
      "Please Enter your Operation : \n",
      "add\n",
      "The Summation Result is :  35\n",
      "if you want to continue Enter yes & if you want to stop enter stopstop\n",
      "\n",
      "Thank You for Using our CALCULATOR \n",
      " \tGOOD BYE\n"
     ]
    }
   ],
   "source": [
    "def add (*args):\n",
    "    z = x + y\n",
    "    return z\n",
    "def sub (*args):\n",
    "    v = x - y\n",
    "    return v\n",
    "def mul (*args):\n",
    "    p = x * y\n",
    "    return p\n",
    "def div (*args):\n",
    "    o = x / y\n",
    "    return o\n",
    "\n",
    "while True:\n",
    "    create = input(\"if you want to continue Enter yes & if you want to stop enter stop\")\n",
    "    while create == 'yes':\n",
    "        x = int(input(\"Please Enter Your Biggest Number : \\n\"))\n",
    "        y = int(input(\"Please Enter Your Smallest Number : \\n\"))\n",
    "        op = input(\"Please Enter your Operation : \\n\")\n",
    "        if x > y :\n",
    "            if op == 'add' :\n",
    "                z = add(x,y)\n",
    "                print(\"The Summation Result is : \" , z)\n",
    "                break \n",
    "            elif op == 'sub' :\n",
    "                v = sub(x,y)\n",
    "                print(\"The Subtraction Result is : \" , v)\n",
    "                break\n",
    "            elif op == 'mul' :\n",
    "                p = mul(x,y)\n",
    "                print(\"The Multiplication Result is : \" , p)\n",
    "                break\n",
    "            elif op == 'div' :\n",
    "                o = div(x,y)\n",
    "                print(\"The Division Result is : \" , o)\n",
    "                break\n",
    "            else : \n",
    "                print(\"Syntax Error\")\n",
    "                break\n",
    "        else:\n",
    "            print(\"Please Enter Valid Number \")\n",
    "    else : \n",
    "        print (\"\\nThank You for Using our CALCULATOR \\n\", \"\\tGOOD BYE\")\n",
    "        break "
   ]
  },
  {
   "cell_type": "code",
   "execution_count": null,
   "id": "062f05be",
   "metadata": {},
   "outputs": [],
   "source": []
  }
 ],
 "metadata": {
  "kernelspec": {
   "display_name": "Python 3 (ipykernel)",
   "language": "python",
   "name": "python3"
  },
  "language_info": {
   "codemirror_mode": {
    "name": "ipython",
    "version": 3
   },
   "file_extension": ".py",
   "mimetype": "text/x-python",
   "name": "python",
   "nbconvert_exporter": "python",
   "pygments_lexer": "ipython3",
   "version": "3.9.12"
  }
 },
 "nbformat": 4,
 "nbformat_minor": 5
}
